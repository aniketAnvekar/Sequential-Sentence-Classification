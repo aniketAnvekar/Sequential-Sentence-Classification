{
  "nbformat": 4,
  "nbformat_minor": 0,
  "metadata": {
    "colab": {
      "name": "Sequential_Sentence_Classification.ipynb",
      "provenance": [],
      "collapsed_sections": [],
      "mount_file_id": "1A-wknA5aLAlpOKRbdkxmjRiIdZyNGn-F",
      "authorship_tag": "ABX9TyPPdlAzR6T8KdvbRyKkpRdz",
      "include_colab_link": true
    },
    "kernelspec": {
      "name": "python3",
      "display_name": "Python 3"
    },
    "language_info": {
      "name": "python"
    }
  },
  "cells": [
    {
      "cell_type": "markdown",
      "metadata": {
        "id": "view-in-github",
        "colab_type": "text"
      },
      "source": [
        "<a href=\"https://colab.research.google.com/github/aniketAnvekar/Sequential-Sentence-Classification/blob/main/Sequential_Sentence_Classification.ipynb\" target=\"_parent\"><img src=\"https://colab.research.google.com/assets/colab-badge.svg\" alt=\"Open In Colab\"/></a>"
      ]
    },
    {
      "cell_type": "code",
      "metadata": {
        "id": "xuoYo-5jXl9l"
      },
      "source": [
        "import pandas as pd\n",
        "import numpy as np"
      ],
      "execution_count": 1,
      "outputs": []
    },
    {
      "cell_type": "code",
      "metadata": {
        "colab": {
          "base_uri": "https://localhost:8080/",
          "height": 206
        },
        "id": "aHh8GQu-YfLq",
        "outputId": "48c808c6-fd27-4f38-d62f-a992ee11350d"
      },
      "source": [
        "data = pd.read_csv('/content/drive/MyDrive/Sequence_Classification/train.txt',delimiter='\\t',names=['labels','text'])\n",
        "data.head()"
      ],
      "execution_count": 2,
      "outputs": [
        {
          "output_type": "execute_result",
          "data": {
            "text/html": [
              "<div>\n",
              "<style scoped>\n",
              "    .dataframe tbody tr th:only-of-type {\n",
              "        vertical-align: middle;\n",
              "    }\n",
              "\n",
              "    .dataframe tbody tr th {\n",
              "        vertical-align: top;\n",
              "    }\n",
              "\n",
              "    .dataframe thead th {\n",
              "        text-align: right;\n",
              "    }\n",
              "</style>\n",
              "<table border=\"1\" class=\"dataframe\">\n",
              "  <thead>\n",
              "    <tr style=\"text-align: right;\">\n",
              "      <th></th>\n",
              "      <th>labels</th>\n",
              "      <th>text</th>\n",
              "    </tr>\n",
              "  </thead>\n",
              "  <tbody>\n",
              "    <tr>\n",
              "      <th>0</th>\n",
              "      <td>###24293578</td>\n",
              "      <td>NaN</td>\n",
              "    </tr>\n",
              "    <tr>\n",
              "      <th>1</th>\n",
              "      <td>OBJECTIVE</td>\n",
              "      <td>To investigate the efficacy of 6 weeks of dail...</td>\n",
              "    </tr>\n",
              "    <tr>\n",
              "      <th>2</th>\n",
              "      <td>METHODS</td>\n",
              "      <td>A total of 125 patients with primary knee OA w...</td>\n",
              "    </tr>\n",
              "    <tr>\n",
              "      <th>3</th>\n",
              "      <td>METHODS</td>\n",
              "      <td>Outcome measures included pain reduction and i...</td>\n",
              "    </tr>\n",
              "    <tr>\n",
              "      <th>4</th>\n",
              "      <td>METHODS</td>\n",
              "      <td>Pain was assessed using the visual analog pain...</td>\n",
              "    </tr>\n",
              "  </tbody>\n",
              "</table>\n",
              "</div>"
            ],
            "text/plain": [
              "        labels                                               text\n",
              "0  ###24293578                                                NaN\n",
              "1    OBJECTIVE  To investigate the efficacy of 6 weeks of dail...\n",
              "2      METHODS  A total of 125 patients with primary knee OA w...\n",
              "3      METHODS  Outcome measures included pain reduction and i...\n",
              "4      METHODS  Pain was assessed using the visual analog pain..."
            ]
          },
          "metadata": {},
          "execution_count": 2
        }
      ]
    },
    {
      "cell_type": "code",
      "metadata": {
        "colab": {
          "base_uri": "https://localhost:8080/",
          "height": 426
        },
        "id": "QoH7X9QZZR82",
        "outputId": "aae4cc8d-9a12-4331-8cf2-d2f764499f9b"
      },
      "source": [
        "data.dropna(subset=['text'], inplace=True)\n",
        "data.head(12)"
      ],
      "execution_count": 3,
      "outputs": [
        {
          "output_type": "execute_result",
          "data": {
            "text/html": [
              "<div>\n",
              "<style scoped>\n",
              "    .dataframe tbody tr th:only-of-type {\n",
              "        vertical-align: middle;\n",
              "    }\n",
              "\n",
              "    .dataframe tbody tr th {\n",
              "        vertical-align: top;\n",
              "    }\n",
              "\n",
              "    .dataframe thead th {\n",
              "        text-align: right;\n",
              "    }\n",
              "</style>\n",
              "<table border=\"1\" class=\"dataframe\">\n",
              "  <thead>\n",
              "    <tr style=\"text-align: right;\">\n",
              "      <th></th>\n",
              "      <th>labels</th>\n",
              "      <th>text</th>\n",
              "    </tr>\n",
              "  </thead>\n",
              "  <tbody>\n",
              "    <tr>\n",
              "      <th>1</th>\n",
              "      <td>OBJECTIVE</td>\n",
              "      <td>To investigate the efficacy of 6 weeks of dail...</td>\n",
              "    </tr>\n",
              "    <tr>\n",
              "      <th>2</th>\n",
              "      <td>METHODS</td>\n",
              "      <td>A total of 125 patients with primary knee OA w...</td>\n",
              "    </tr>\n",
              "    <tr>\n",
              "      <th>3</th>\n",
              "      <td>METHODS</td>\n",
              "      <td>Outcome measures included pain reduction and i...</td>\n",
              "    </tr>\n",
              "    <tr>\n",
              "      <th>4</th>\n",
              "      <td>METHODS</td>\n",
              "      <td>Pain was assessed using the visual analog pain...</td>\n",
              "    </tr>\n",
              "    <tr>\n",
              "      <th>5</th>\n",
              "      <td>METHODS</td>\n",
              "      <td>Secondary outcome measures included the Wester...</td>\n",
              "    </tr>\n",
              "    <tr>\n",
              "      <th>6</th>\n",
              "      <td>METHODS</td>\n",
              "      <td>Serum levels of interleukin 1 ( IL-1 ) , IL-6 ...</td>\n",
              "    </tr>\n",
              "    <tr>\n",
              "      <th>7</th>\n",
              "      <td>RESULTS</td>\n",
              "      <td>There was a clinically relevant reduction in t...</td>\n",
              "    </tr>\n",
              "    <tr>\n",
              "      <th>8</th>\n",
              "      <td>RESULTS</td>\n",
              "      <td>The mean difference between treatment arms ( 9...</td>\n",
              "    </tr>\n",
              "    <tr>\n",
              "      <th>9</th>\n",
              "      <td>RESULTS</td>\n",
              "      <td>Further , there was a clinically relevant redu...</td>\n",
              "    </tr>\n",
              "    <tr>\n",
              "      <th>10</th>\n",
              "      <td>RESULTS</td>\n",
              "      <td>These differences remained significant at 12 w...</td>\n",
              "    </tr>\n",
              "    <tr>\n",
              "      <th>11</th>\n",
              "      <td>RESULTS</td>\n",
              "      <td>The Outcome Measures in Rheumatology Clinical ...</td>\n",
              "    </tr>\n",
              "    <tr>\n",
              "      <th>12</th>\n",
              "      <td>CONCLUSIONS</td>\n",
              "      <td>Low-dose oral prednisolone had both a short-te...</td>\n",
              "    </tr>\n",
              "  </tbody>\n",
              "</table>\n",
              "</div>"
            ],
            "text/plain": [
              "         labels                                               text\n",
              "1     OBJECTIVE  To investigate the efficacy of 6 weeks of dail...\n",
              "2       METHODS  A total of 125 patients with primary knee OA w...\n",
              "3       METHODS  Outcome measures included pain reduction and i...\n",
              "4       METHODS  Pain was assessed using the visual analog pain...\n",
              "5       METHODS  Secondary outcome measures included the Wester...\n",
              "6       METHODS  Serum levels of interleukin 1 ( IL-1 ) , IL-6 ...\n",
              "7       RESULTS  There was a clinically relevant reduction in t...\n",
              "8       RESULTS  The mean difference between treatment arms ( 9...\n",
              "9       RESULTS  Further , there was a clinically relevant redu...\n",
              "10      RESULTS  These differences remained significant at 12 w...\n",
              "11      RESULTS  The Outcome Measures in Rheumatology Clinical ...\n",
              "12  CONCLUSIONS  Low-dose oral prednisolone had both a short-te..."
            ]
          },
          "metadata": {},
          "execution_count": 3
        }
      ]
    },
    {
      "cell_type": "code",
      "metadata": {
        "colab": {
          "base_uri": "https://localhost:8080/"
        },
        "id": "DmKIYTrDZm19",
        "outputId": "4f31ac0e-a097-4d84-b843-123d932e9a0d"
      },
      "source": [
        "data.labels.unique()"
      ],
      "execution_count": null,
      "outputs": [
        {
          "output_type": "execute_result",
          "data": {
            "text/plain": [
              "array(['OBJECTIVE', 'METHODS', 'RESULTS', 'CONCLUSIONS', 'BACKGROUND'],\n",
              "      dtype=object)"
            ]
          },
          "metadata": {},
          "execution_count": 5
        }
      ]
    },
    {
      "cell_type": "code",
      "metadata": {
        "colab": {
          "base_uri": "https://localhost:8080/"
        },
        "id": "OX2O6zw9Z-CJ",
        "outputId": "cacca239-18c2-47a6-9451-1137dbb2993f"
      },
      "source": [
        "data.labels.value_counts()"
      ],
      "execution_count": null,
      "outputs": [
        {
          "output_type": "execute_result",
          "data": {
            "text/plain": [
              "METHODS        59353\n",
              "RESULTS        57953\n",
              "CONCLUSIONS    27168\n",
              "BACKGROUND     21727\n",
              "OBJECTIVE      13839\n",
              "Name: labels, dtype: int64"
            ]
          },
          "metadata": {},
          "execution_count": 6
        }
      ]
    },
    {
      "cell_type": "code",
      "metadata": {
        "colab": {
          "base_uri": "https://localhost:8080/"
        },
        "id": "zAPPTqNPaOZS",
        "outputId": "e79bea3a-aefb-4068-9859-a381e36ee51f"
      },
      "source": [
        "train_sentences = data[\"text\"].tolist()\n",
        "len(train_sentences)"
      ],
      "execution_count": 4,
      "outputs": [
        {
          "output_type": "execute_result",
          "data": {
            "text/plain": [
              "180040"
            ]
          },
          "metadata": {},
          "execution_count": 4
        }
      ]
    },
    {
      "cell_type": "code",
      "metadata": {
        "colab": {
          "base_uri": "https://localhost:8080/"
        },
        "id": "nn-Cw4INaUOT",
        "outputId": "b7575606-0fa2-41d7-989e-893ec3ee1571"
      },
      "source": [
        "train_sentences[:7]"
      ],
      "execution_count": null,
      "outputs": [
        {
          "output_type": "execute_result",
          "data": {
            "text/plain": [
              "['To investigate the efficacy of 6 weeks of daily low-dose oral prednisolone in improving pain , mobility , and systemic low-grade inflammation in the short term and whether the effect would be sustained at 12 weeks in older adults with moderate to severe knee osteoarthritis ( OA ) .',\n",
              " 'A total of 125 patients with primary knee OA were randomized 1:1 ; 63 received 7.5 mg/day of prednisolone and 62 received placebo for 6 weeks .',\n",
              " 'Outcome measures included pain reduction and improvement in function scores and systemic inflammation markers .',\n",
              " 'Pain was assessed using the visual analog pain scale ( 0-100 mm ) .',\n",
              " 'Secondary outcome measures included the Western Ontario and McMaster Universities Osteoarthritis Index scores , patient global assessment ( PGA ) of the severity of knee OA , and 6-min walk distance ( 6MWD ) .',\n",
              " 'Serum levels of interleukin 1 ( IL-1 ) , IL-6 , tumor necrosis factor ( TNF ) - , and high-sensitivity C-reactive protein ( hsCRP ) were measured .',\n",
              " 'There was a clinically relevant reduction in the intervention group compared to the placebo group for knee pain , physical function , PGA , and 6MWD at 6 weeks .']"
            ]
          },
          "metadata": {},
          "execution_count": 8
        }
      ]
    },
    {
      "cell_type": "code",
      "metadata": {
        "colab": {
          "base_uri": "https://localhost:8080/"
        },
        "id": "Zwvs6yjqaULD",
        "outputId": "6a67993f-d5ff-47e2-fddb-f87dafef1f94"
      },
      "source": [
        "import re\n",
        "import nltk.corpus\n",
        "nltk.download('stopwords')\n",
        "from nltk.corpus import stopwords\n",
        "stop = stopwords.words('english')\n"
      ],
      "execution_count": 5,
      "outputs": [
        {
          "output_type": "stream",
          "name": "stdout",
          "text": [
            "[nltk_data] Downloading package stopwords to /root/nltk_data...\n",
            "[nltk_data]   Unzipping corpora/stopwords.zip.\n"
          ]
        }
      ]
    },
    {
      "cell_type": "code",
      "metadata": {
        "id": "k8_d3AjkaUI4"
      },
      "source": [
        "def clean_text(data, current_text_field, new_text_field_name):\n",
        "  data[new_text_field_name] = data[current_text_field].str.lower()\n",
        "  data[new_text_field_name] = data[new_text_field_name].apply(lambda elem: re.sub(r'[^\\w\\s]', '', elem))\n",
        "  data[new_text_field_name] = data[new_text_field_name].apply(lambda x: ' '.join([word for word in x.split() if word not in (stop)]))\n",
        "  return data"
      ],
      "execution_count": 6,
      "outputs": []
    },
    {
      "cell_type": "code",
      "metadata": {
        "colab": {
          "base_uri": "https://localhost:8080/",
          "height": 426
        },
        "id": "WJfEOC6RaUF1",
        "outputId": "0491c08a-9f9f-4cec-876a-ba716e52cf8d"
      },
      "source": [
        "data_clean = clean_text(data, 'text', 'cleaned_text')\n",
        "data_clean.head(12)"
      ],
      "execution_count": 7,
      "outputs": [
        {
          "output_type": "execute_result",
          "data": {
            "text/html": [
              "<div>\n",
              "<style scoped>\n",
              "    .dataframe tbody tr th:only-of-type {\n",
              "        vertical-align: middle;\n",
              "    }\n",
              "\n",
              "    .dataframe tbody tr th {\n",
              "        vertical-align: top;\n",
              "    }\n",
              "\n",
              "    .dataframe thead th {\n",
              "        text-align: right;\n",
              "    }\n",
              "</style>\n",
              "<table border=\"1\" class=\"dataframe\">\n",
              "  <thead>\n",
              "    <tr style=\"text-align: right;\">\n",
              "      <th></th>\n",
              "      <th>labels</th>\n",
              "      <th>text</th>\n",
              "      <th>cleaned_text</th>\n",
              "    </tr>\n",
              "  </thead>\n",
              "  <tbody>\n",
              "    <tr>\n",
              "      <th>1</th>\n",
              "      <td>OBJECTIVE</td>\n",
              "      <td>To investigate the efficacy of 6 weeks of dail...</td>\n",
              "      <td>investigate efficacy 6 weeks daily lowdose ora...</td>\n",
              "    </tr>\n",
              "    <tr>\n",
              "      <th>2</th>\n",
              "      <td>METHODS</td>\n",
              "      <td>A total of 125 patients with primary knee OA w...</td>\n",
              "      <td>total 125 patients primary knee oa randomized ...</td>\n",
              "    </tr>\n",
              "    <tr>\n",
              "      <th>3</th>\n",
              "      <td>METHODS</td>\n",
              "      <td>Outcome measures included pain reduction and i...</td>\n",
              "      <td>outcome measures included pain reduction impro...</td>\n",
              "    </tr>\n",
              "    <tr>\n",
              "      <th>4</th>\n",
              "      <td>METHODS</td>\n",
              "      <td>Pain was assessed using the visual analog pain...</td>\n",
              "      <td>pain assessed using visual analog pain scale 0...</td>\n",
              "    </tr>\n",
              "    <tr>\n",
              "      <th>5</th>\n",
              "      <td>METHODS</td>\n",
              "      <td>Secondary outcome measures included the Wester...</td>\n",
              "      <td>secondary outcome measures included western on...</td>\n",
              "    </tr>\n",
              "    <tr>\n",
              "      <th>6</th>\n",
              "      <td>METHODS</td>\n",
              "      <td>Serum levels of interleukin 1 ( IL-1 ) , IL-6 ...</td>\n",
              "      <td>serum levels interleukin 1 il1 il6 tumor necro...</td>\n",
              "    </tr>\n",
              "    <tr>\n",
              "      <th>7</th>\n",
              "      <td>RESULTS</td>\n",
              "      <td>There was a clinically relevant reduction in t...</td>\n",
              "      <td>clinically relevant reduction intervention gro...</td>\n",
              "    </tr>\n",
              "    <tr>\n",
              "      <th>8</th>\n",
              "      <td>RESULTS</td>\n",
              "      <td>The mean difference between treatment arms ( 9...</td>\n",
              "      <td>mean difference treatment arms 95 ci 109 4818 ...</td>\n",
              "    </tr>\n",
              "    <tr>\n",
              "      <th>9</th>\n",
              "      <td>RESULTS</td>\n",
              "      <td>Further , there was a clinically relevant redu...</td>\n",
              "      <td>clinically relevant reduction serum levels il1...</td>\n",
              "    </tr>\n",
              "    <tr>\n",
              "      <th>10</th>\n",
              "      <td>RESULTS</td>\n",
              "      <td>These differences remained significant at 12 w...</td>\n",
              "      <td>differences remained significant 12 weeks</td>\n",
              "    </tr>\n",
              "    <tr>\n",
              "      <th>11</th>\n",
              "      <td>RESULTS</td>\n",
              "      <td>The Outcome Measures in Rheumatology Clinical ...</td>\n",
              "      <td>outcome measures rheumatology clinical trialso...</td>\n",
              "    </tr>\n",
              "    <tr>\n",
              "      <th>12</th>\n",
              "      <td>CONCLUSIONS</td>\n",
              "      <td>Low-dose oral prednisolone had both a short-te...</td>\n",
              "      <td>lowdose oral prednisolone shortterm longer sus...</td>\n",
              "    </tr>\n",
              "  </tbody>\n",
              "</table>\n",
              "</div>"
            ],
            "text/plain": [
              "         labels  ...                                       cleaned_text\n",
              "1     OBJECTIVE  ...  investigate efficacy 6 weeks daily lowdose ora...\n",
              "2       METHODS  ...  total 125 patients primary knee oa randomized ...\n",
              "3       METHODS  ...  outcome measures included pain reduction impro...\n",
              "4       METHODS  ...  pain assessed using visual analog pain scale 0...\n",
              "5       METHODS  ...  secondary outcome measures included western on...\n",
              "6       METHODS  ...  serum levels interleukin 1 il1 il6 tumor necro...\n",
              "7       RESULTS  ...  clinically relevant reduction intervention gro...\n",
              "8       RESULTS  ...  mean difference treatment arms 95 ci 109 4818 ...\n",
              "9       RESULTS  ...  clinically relevant reduction serum levels il1...\n",
              "10      RESULTS  ...          differences remained significant 12 weeks\n",
              "11      RESULTS  ...  outcome measures rheumatology clinical trialso...\n",
              "12  CONCLUSIONS  ...  lowdose oral prednisolone shortterm longer sus...\n",
              "\n",
              "[12 rows x 3 columns]"
            ]
          },
          "metadata": {},
          "execution_count": 7
        }
      ]
    },
    {
      "cell_type": "code",
      "metadata": {
        "colab": {
          "base_uri": "https://localhost:8080/"
        },
        "id": "F130a2fBnDMs",
        "outputId": "8d8407bf-a4f3-40ed-bd6d-def5798e4b72"
      },
      "source": [
        "from nltk.tokenize import word_tokenize\n",
        "nltk.download('punkt')"
      ],
      "execution_count": 8,
      "outputs": [
        {
          "output_type": "stream",
          "name": "stdout",
          "text": [
            "[nltk_data] Downloading package punkt to /root/nltk_data...\n",
            "[nltk_data]   Unzipping tokenizers/punkt.zip.\n"
          ]
        },
        {
          "output_type": "execute_result",
          "data": {
            "text/plain": [
              "True"
            ]
          },
          "metadata": {},
          "execution_count": 8
        }
      ]
    },
    {
      "cell_type": "code",
      "metadata": {
        "id": "EyHwn7pUml4W"
      },
      "source": [
        "def get_tokens(data, current_text_field, new_text_field_name):\n",
        "  data[new_text_field_name] = data[current_text_field].apply(lambda x: word_tokenize(x))\n",
        "  return data"
      ],
      "execution_count": 9,
      "outputs": []
    },
    {
      "cell_type": "code",
      "metadata": {
        "colab": {
          "base_uri": "https://localhost:8080/",
          "height": 426
        },
        "id": "rQSvjcednSOH",
        "outputId": "fef12679-a74b-4dc1-89d4-4395f9e80f57"
      },
      "source": [
        "tokens_df = get_tokens(data_clean, 'cleaned_text', 'tokens')\n",
        "tokens_df.head(12)"
      ],
      "execution_count": 11,
      "outputs": [
        {
          "output_type": "execute_result",
          "data": {
            "text/html": [
              "<div>\n",
              "<style scoped>\n",
              "    .dataframe tbody tr th:only-of-type {\n",
              "        vertical-align: middle;\n",
              "    }\n",
              "\n",
              "    .dataframe tbody tr th {\n",
              "        vertical-align: top;\n",
              "    }\n",
              "\n",
              "    .dataframe thead th {\n",
              "        text-align: right;\n",
              "    }\n",
              "</style>\n",
              "<table border=\"1\" class=\"dataframe\">\n",
              "  <thead>\n",
              "    <tr style=\"text-align: right;\">\n",
              "      <th></th>\n",
              "      <th>labels</th>\n",
              "      <th>text</th>\n",
              "      <th>cleaned_text</th>\n",
              "      <th>tokens</th>\n",
              "    </tr>\n",
              "  </thead>\n",
              "  <tbody>\n",
              "    <tr>\n",
              "      <th>1</th>\n",
              "      <td>OBJECTIVE</td>\n",
              "      <td>To investigate the efficacy of 6 weeks of dail...</td>\n",
              "      <td>investigate efficacy 6 weeks daily lowdose ora...</td>\n",
              "      <td>[investigate, efficacy, 6, weeks, daily, lowdo...</td>\n",
              "    </tr>\n",
              "    <tr>\n",
              "      <th>2</th>\n",
              "      <td>METHODS</td>\n",
              "      <td>A total of 125 patients with primary knee OA w...</td>\n",
              "      <td>total 125 patients primary knee oa randomized ...</td>\n",
              "      <td>[total, 125, patients, primary, knee, oa, rand...</td>\n",
              "    </tr>\n",
              "    <tr>\n",
              "      <th>3</th>\n",
              "      <td>METHODS</td>\n",
              "      <td>Outcome measures included pain reduction and i...</td>\n",
              "      <td>outcome measures included pain reduction impro...</td>\n",
              "      <td>[outcome, measures, included, pain, reduction,...</td>\n",
              "    </tr>\n",
              "    <tr>\n",
              "      <th>4</th>\n",
              "      <td>METHODS</td>\n",
              "      <td>Pain was assessed using the visual analog pain...</td>\n",
              "      <td>pain assessed using visual analog pain scale 0...</td>\n",
              "      <td>[pain, assessed, using, visual, analog, pain, ...</td>\n",
              "    </tr>\n",
              "    <tr>\n",
              "      <th>5</th>\n",
              "      <td>METHODS</td>\n",
              "      <td>Secondary outcome measures included the Wester...</td>\n",
              "      <td>secondary outcome measures included western on...</td>\n",
              "      <td>[secondary, outcome, measures, included, weste...</td>\n",
              "    </tr>\n",
              "    <tr>\n",
              "      <th>6</th>\n",
              "      <td>METHODS</td>\n",
              "      <td>Serum levels of interleukin 1 ( IL-1 ) , IL-6 ...</td>\n",
              "      <td>serum levels interleukin 1 il1 il6 tumor necro...</td>\n",
              "      <td>[serum, levels, interleukin, 1, il1, il6, tumo...</td>\n",
              "    </tr>\n",
              "    <tr>\n",
              "      <th>7</th>\n",
              "      <td>RESULTS</td>\n",
              "      <td>There was a clinically relevant reduction in t...</td>\n",
              "      <td>clinically relevant reduction intervention gro...</td>\n",
              "      <td>[clinically, relevant, reduction, intervention...</td>\n",
              "    </tr>\n",
              "    <tr>\n",
              "      <th>8</th>\n",
              "      <td>RESULTS</td>\n",
              "      <td>The mean difference between treatment arms ( 9...</td>\n",
              "      <td>mean difference treatment arms 95 ci 109 4818 ...</td>\n",
              "      <td>[mean, difference, treatment, arms, 95, ci, 10...</td>\n",
              "    </tr>\n",
              "    <tr>\n",
              "      <th>9</th>\n",
              "      <td>RESULTS</td>\n",
              "      <td>Further , there was a clinically relevant redu...</td>\n",
              "      <td>clinically relevant reduction serum levels il1...</td>\n",
              "      <td>[clinically, relevant, reduction, serum, level...</td>\n",
              "    </tr>\n",
              "    <tr>\n",
              "      <th>10</th>\n",
              "      <td>RESULTS</td>\n",
              "      <td>These differences remained significant at 12 w...</td>\n",
              "      <td>differences remained significant 12 weeks</td>\n",
              "      <td>[differences, remained, significant, 12, weeks]</td>\n",
              "    </tr>\n",
              "    <tr>\n",
              "      <th>11</th>\n",
              "      <td>RESULTS</td>\n",
              "      <td>The Outcome Measures in Rheumatology Clinical ...</td>\n",
              "      <td>outcome measures rheumatology clinical trialso...</td>\n",
              "      <td>[outcome, measures, rheumatology, clinical, tr...</td>\n",
              "    </tr>\n",
              "    <tr>\n",
              "      <th>12</th>\n",
              "      <td>CONCLUSIONS</td>\n",
              "      <td>Low-dose oral prednisolone had both a short-te...</td>\n",
              "      <td>lowdose oral prednisolone shortterm longer sus...</td>\n",
              "      <td>[lowdose, oral, prednisolone, shortterm, longe...</td>\n",
              "    </tr>\n",
              "  </tbody>\n",
              "</table>\n",
              "</div>"
            ],
            "text/plain": [
              "         labels  ...                                             tokens\n",
              "1     OBJECTIVE  ...  [investigate, efficacy, 6, weeks, daily, lowdo...\n",
              "2       METHODS  ...  [total, 125, patients, primary, knee, oa, rand...\n",
              "3       METHODS  ...  [outcome, measures, included, pain, reduction,...\n",
              "4       METHODS  ...  [pain, assessed, using, visual, analog, pain, ...\n",
              "5       METHODS  ...  [secondary, outcome, measures, included, weste...\n",
              "6       METHODS  ...  [serum, levels, interleukin, 1, il1, il6, tumo...\n",
              "7       RESULTS  ...  [clinically, relevant, reduction, intervention...\n",
              "8       RESULTS  ...  [mean, difference, treatment, arms, 95, ci, 10...\n",
              "9       RESULTS  ...  [clinically, relevant, reduction, serum, level...\n",
              "10      RESULTS  ...    [differences, remained, significant, 12, weeks]\n",
              "11      RESULTS  ...  [outcome, measures, rheumatology, clinical, tr...\n",
              "12  CONCLUSIONS  ...  [lowdose, oral, prednisolone, shortterm, longe...\n",
              "\n",
              "[12 rows x 4 columns]"
            ]
          },
          "metadata": {},
          "execution_count": 11
        }
      ]
    },
    {
      "cell_type": "code",
      "metadata": {
        "colab": {
          "base_uri": "https://localhost:8080/"
        },
        "id": "BxWe3nSun9x-",
        "outputId": "fb7c35bb-abce-4e19-ad1b-6f1b60ec07a3"
      },
      "source": [
        "tokens_list = tokens_df[\"tokens\"].tolist()\n",
        "len(tokens_list)"
      ],
      "execution_count": 12,
      "outputs": [
        {
          "output_type": "execute_result",
          "data": {
            "text/plain": [
              "180040"
            ]
          },
          "metadata": {},
          "execution_count": 12
        }
      ]
    },
    {
      "cell_type": "code",
      "metadata": {
        "id": "gtH3UL6zoXC_"
      },
      "source": [
        "token_corpus = []\n",
        "\n",
        "for l in tokens_list:\n",
        "  for token in l:\n",
        "    token_corpus.append(token)\n"
      ],
      "execution_count": 13,
      "outputs": []
    },
    {
      "cell_type": "code",
      "metadata": {
        "colab": {
          "base_uri": "https://localhost:8080/"
        },
        "id": "ZYMOV01VoW7R",
        "outputId": "b673d5fd-ce9f-4edc-ba53-3c71ea541cdb"
      },
      "source": [
        "len(set(token_corpus))"
      ],
      "execution_count": null,
      "outputs": [
        {
          "output_type": "execute_result",
          "data": {
            "text/plain": [
              "89024"
            ]
          },
          "metadata": {},
          "execution_count": 44
        }
      ]
    },
    {
      "cell_type": "code",
      "metadata": {
        "colab": {
          "base_uri": "https://localhost:8080/"
        },
        "id": "J_ApbqokfRkm",
        "outputId": "140b6a45-6df1-4183-aaf1-bb0d921edfcd"
      },
      "source": [
        "train_sentences_clean = data[\"cleaned_text\"].tolist()\n",
        "len(train_sentences_clean)"
      ],
      "execution_count": 14,
      "outputs": [
        {
          "output_type": "execute_result",
          "data": {
            "text/plain": [
              "180040"
            ]
          },
          "metadata": {},
          "execution_count": 14
        }
      ]
    },
    {
      "cell_type": "code",
      "metadata": {
        "id": "2vyaE2WlgP5v"
      },
      "source": [
        "from sklearn.preprocessing import OneHotEncoder\n",
        "one_hot_encoder = OneHotEncoder(sparse=False)\n",
        "train_labels_one_hot = one_hot_encoder.fit_transform(data[\"labels\"].to_numpy().reshape(-1, 1))"
      ],
      "execution_count": 15,
      "outputs": []
    },
    {
      "cell_type": "code",
      "metadata": {
        "colab": {
          "base_uri": "https://localhost:8080/"
        },
        "id": "tNnNI6TLgfrd",
        "outputId": "ecdfbfd6-e33a-4c4a-a127-8bb8445dd4a9"
      },
      "source": [
        "train_labels_one_hot"
      ],
      "execution_count": 16,
      "outputs": [
        {
          "output_type": "execute_result",
          "data": {
            "text/plain": [
              "array([[0., 0., 0., 1., 0.],\n",
              "       [0., 0., 1., 0., 0.],\n",
              "       [0., 0., 1., 0., 0.],\n",
              "       ...,\n",
              "       [0., 0., 0., 0., 1.],\n",
              "       [0., 1., 0., 0., 0.],\n",
              "       [0., 1., 0., 0., 0.]])"
            ]
          },
          "metadata": {},
          "execution_count": 16
        }
      ]
    },
    {
      "cell_type": "code",
      "metadata": {
        "colab": {
          "base_uri": "https://localhost:8080/"
        },
        "id": "QdSAY6dsgjQo",
        "outputId": "de0a7f4d-3681-4a46-e01c-931c209f0c50"
      },
      "source": [
        "from sklearn.preprocessing import LabelEncoder\n",
        "label_encoder = LabelEncoder()\n",
        "train_labels_encoded = label_encoder.fit_transform(data[\"labels\"].to_numpy())\n",
        "\n",
        "train_labels_encoded"
      ],
      "execution_count": 17,
      "outputs": [
        {
          "output_type": "execute_result",
          "data": {
            "text/plain": [
              "array([3, 2, 2, ..., 4, 1, 1])"
            ]
          },
          "metadata": {},
          "execution_count": 17
        }
      ]
    },
    {
      "cell_type": "code",
      "metadata": {
        "colab": {
          "base_uri": "https://localhost:8080/"
        },
        "id": "rhT_xP62gyqx",
        "outputId": "77994ecb-4004-4627-9743-d9ebfe2f5d76"
      },
      "source": [
        "num_classes = len(label_encoder.classes_)\n",
        "class_names = label_encoder.classes_\n",
        "num_classes, class_names"
      ],
      "execution_count": 18,
      "outputs": [
        {
          "output_type": "execute_result",
          "data": {
            "text/plain": [
              "(5, array(['BACKGROUND', 'CONCLUSIONS', 'METHODS', 'OBJECTIVE', 'RESULTS'],\n",
              "       dtype=object))"
            ]
          },
          "metadata": {},
          "execution_count": 18
        }
      ]
    },
    {
      "cell_type": "code",
      "metadata": {
        "colab": {
          "base_uri": "https://localhost:8080/"
        },
        "id": "fCHZKNJbg9Cl",
        "outputId": "1ed9e5c7-d778-45f5-e1d4-2884f69df5d6"
      },
      "source": [
        "from sklearn.feature_extraction.text import TfidfVectorizer\n",
        "from sklearn.naive_bayes import MultinomialNB\n",
        "from sklearn.pipeline import Pipeline\n",
        "\n",
        "# Create a pipeline\n",
        "model = Pipeline([\n",
        "  (\"tf-idf\", TfidfVectorizer()),\n",
        "  (\"clf\", MultinomialNB())\n",
        "])\n",
        "\n",
        "# Fit the pipeline to the training data\n",
        "model.fit(X=train_sentences_clean, y=train_labels_encoded)"
      ],
      "execution_count": 19,
      "outputs": [
        {
          "output_type": "execute_result",
          "data": {
            "text/plain": [
              "Pipeline(steps=[('tf-idf', TfidfVectorizer()), ('clf', MultinomialNB())])"
            ]
          },
          "metadata": {},
          "execution_count": 19
        }
      ]
    },
    {
      "cell_type": "code",
      "metadata": {
        "id": "3CK5_510hTnH",
        "colab": {
          "base_uri": "https://localhost:8080/",
          "height": 206
        },
        "outputId": "e8da3606-1287-4148-96a2-2f8b7ecd856b"
      },
      "source": [
        "####Validating model\n",
        "\n",
        "\n",
        "data_val = pd.read_csv('/content/drive/MyDrive/Sequence_Classification/dev.txt',delimiter='\\t',names=['labels','text'])\n",
        "data_val.head()"
      ],
      "execution_count": 20,
      "outputs": [
        {
          "output_type": "execute_result",
          "data": {
            "text/html": [
              "<div>\n",
              "<style scoped>\n",
              "    .dataframe tbody tr th:only-of-type {\n",
              "        vertical-align: middle;\n",
              "    }\n",
              "\n",
              "    .dataframe tbody tr th {\n",
              "        vertical-align: top;\n",
              "    }\n",
              "\n",
              "    .dataframe thead th {\n",
              "        text-align: right;\n",
              "    }\n",
              "</style>\n",
              "<table border=\"1\" class=\"dataframe\">\n",
              "  <thead>\n",
              "    <tr style=\"text-align: right;\">\n",
              "      <th></th>\n",
              "      <th>labels</th>\n",
              "      <th>text</th>\n",
              "    </tr>\n",
              "  </thead>\n",
              "  <tbody>\n",
              "    <tr>\n",
              "      <th>0</th>\n",
              "      <td>###24290286</td>\n",
              "      <td>NaN</td>\n",
              "    </tr>\n",
              "    <tr>\n",
              "      <th>1</th>\n",
              "      <td>BACKGROUND</td>\n",
              "      <td>IgE sensitization to Aspergillus fumigatus and...</td>\n",
              "    </tr>\n",
              "    <tr>\n",
              "      <th>2</th>\n",
              "      <td>BACKGROUND</td>\n",
              "      <td>It is not clear whether these patients would b...</td>\n",
              "    </tr>\n",
              "    <tr>\n",
              "      <th>3</th>\n",
              "      <td>OBJECTIVE</td>\n",
              "      <td>We sought to determine whether a 3-month cours...</td>\n",
              "    </tr>\n",
              "    <tr>\n",
              "      <th>4</th>\n",
              "      <td>METHODS</td>\n",
              "      <td>Asthmatic patients who were IgE sensitized to ...</td>\n",
              "    </tr>\n",
              "  </tbody>\n",
              "</table>\n",
              "</div>"
            ],
            "text/plain": [
              "        labels                                               text\n",
              "0  ###24290286                                                NaN\n",
              "1   BACKGROUND  IgE sensitization to Aspergillus fumigatus and...\n",
              "2   BACKGROUND  It is not clear whether these patients would b...\n",
              "3    OBJECTIVE  We sought to determine whether a 3-month cours...\n",
              "4      METHODS  Asthmatic patients who were IgE sensitized to ..."
            ]
          },
          "metadata": {},
          "execution_count": 20
        }
      ]
    },
    {
      "cell_type": "code",
      "metadata": {
        "colab": {
          "base_uri": "https://localhost:8080/",
          "height": 426
        },
        "id": "QnFxx8FsiKYr",
        "outputId": "081e265e-6468-41fa-f1e5-77ef205aff7d"
      },
      "source": [
        "data_val.dropna(subset=['text'], inplace=True)\n",
        "data_val.head(12)"
      ],
      "execution_count": 21,
      "outputs": [
        {
          "output_type": "execute_result",
          "data": {
            "text/html": [
              "<div>\n",
              "<style scoped>\n",
              "    .dataframe tbody tr th:only-of-type {\n",
              "        vertical-align: middle;\n",
              "    }\n",
              "\n",
              "    .dataframe tbody tr th {\n",
              "        vertical-align: top;\n",
              "    }\n",
              "\n",
              "    .dataframe thead th {\n",
              "        text-align: right;\n",
              "    }\n",
              "</style>\n",
              "<table border=\"1\" class=\"dataframe\">\n",
              "  <thead>\n",
              "    <tr style=\"text-align: right;\">\n",
              "      <th></th>\n",
              "      <th>labels</th>\n",
              "      <th>text</th>\n",
              "    </tr>\n",
              "  </thead>\n",
              "  <tbody>\n",
              "    <tr>\n",
              "      <th>1</th>\n",
              "      <td>BACKGROUND</td>\n",
              "      <td>IgE sensitization to Aspergillus fumigatus and...</td>\n",
              "    </tr>\n",
              "    <tr>\n",
              "      <th>2</th>\n",
              "      <td>BACKGROUND</td>\n",
              "      <td>It is not clear whether these patients would b...</td>\n",
              "    </tr>\n",
              "    <tr>\n",
              "      <th>3</th>\n",
              "      <td>OBJECTIVE</td>\n",
              "      <td>We sought to determine whether a 3-month cours...</td>\n",
              "    </tr>\n",
              "    <tr>\n",
              "      <th>4</th>\n",
              "      <td>METHODS</td>\n",
              "      <td>Asthmatic patients who were IgE sensitized to ...</td>\n",
              "    </tr>\n",
              "    <tr>\n",
              "      <th>5</th>\n",
              "      <td>METHODS</td>\n",
              "      <td>Primary outcomes were improvement in quality o...</td>\n",
              "    </tr>\n",
              "    <tr>\n",
              "      <th>6</th>\n",
              "      <td>RESULTS</td>\n",
              "      <td>Sixty-five patients were randomized .</td>\n",
              "    </tr>\n",
              "    <tr>\n",
              "      <th>7</th>\n",
              "      <td>RESULTS</td>\n",
              "      <td>Fifty-nine patients started treatment ( 32 rec...</td>\n",
              "    </tr>\n",
              "    <tr>\n",
              "      <th>8</th>\n",
              "      <td>RESULTS</td>\n",
              "      <td>Fifty-six patients took the full 3 months of m...</td>\n",
              "    </tr>\n",
              "    <tr>\n",
              "      <th>9</th>\n",
              "      <td>RESULTS</td>\n",
              "      <td>Between the voriconazole and placebo groups , ...</td>\n",
              "    </tr>\n",
              "    <tr>\n",
              "      <th>10</th>\n",
              "      <td>CONCLUSIONS</td>\n",
              "      <td>We were unable to show a beneficial effect of ...</td>\n",
              "    </tr>\n",
              "    <tr>\n",
              "      <th>12</th>\n",
              "      <td>BACKGROUND</td>\n",
              "      <td>Opioid antagonists ( e.g. , naltrexone ) and p...</td>\n",
              "    </tr>\n",
              "    <tr>\n",
              "      <th>13</th>\n",
              "      <td>BACKGROUND</td>\n",
              "      <td>The use of higher doses to achieve greater eff...</td>\n",
              "    </tr>\n",
              "  </tbody>\n",
              "</table>\n",
              "</div>"
            ],
            "text/plain": [
              "         labels                                               text\n",
              "1    BACKGROUND  IgE sensitization to Aspergillus fumigatus and...\n",
              "2    BACKGROUND  It is not clear whether these patients would b...\n",
              "3     OBJECTIVE  We sought to determine whether a 3-month cours...\n",
              "4       METHODS  Asthmatic patients who were IgE sensitized to ...\n",
              "5       METHODS  Primary outcomes were improvement in quality o...\n",
              "6       RESULTS              Sixty-five patients were randomized .\n",
              "7       RESULTS  Fifty-nine patients started treatment ( 32 rec...\n",
              "8       RESULTS  Fifty-six patients took the full 3 months of m...\n",
              "9       RESULTS  Between the voriconazole and placebo groups , ...\n",
              "10  CONCLUSIONS  We were unable to show a beneficial effect of ...\n",
              "12   BACKGROUND  Opioid antagonists ( e.g. , naltrexone ) and p...\n",
              "13   BACKGROUND  The use of higher doses to achieve greater eff..."
            ]
          },
          "metadata": {},
          "execution_count": 21
        }
      ]
    },
    {
      "cell_type": "code",
      "metadata": {
        "colab": {
          "base_uri": "https://localhost:8080/",
          "height": 426
        },
        "id": "996Ns9ntiPdA",
        "outputId": "1e4dd2c6-6e67-4954-9fe8-8abc94e76642"
      },
      "source": [
        "data_clean_val = clean_text(data_val, 'text', 'cleaned_text')\n",
        "data_clean_val.head(12)"
      ],
      "execution_count": 22,
      "outputs": [
        {
          "output_type": "execute_result",
          "data": {
            "text/html": [
              "<div>\n",
              "<style scoped>\n",
              "    .dataframe tbody tr th:only-of-type {\n",
              "        vertical-align: middle;\n",
              "    }\n",
              "\n",
              "    .dataframe tbody tr th {\n",
              "        vertical-align: top;\n",
              "    }\n",
              "\n",
              "    .dataframe thead th {\n",
              "        text-align: right;\n",
              "    }\n",
              "</style>\n",
              "<table border=\"1\" class=\"dataframe\">\n",
              "  <thead>\n",
              "    <tr style=\"text-align: right;\">\n",
              "      <th></th>\n",
              "      <th>labels</th>\n",
              "      <th>text</th>\n",
              "      <th>cleaned_text</th>\n",
              "    </tr>\n",
              "  </thead>\n",
              "  <tbody>\n",
              "    <tr>\n",
              "      <th>1</th>\n",
              "      <td>BACKGROUND</td>\n",
              "      <td>IgE sensitization to Aspergillus fumigatus and...</td>\n",
              "      <td>ige sensitization aspergillus fumigatus positi...</td>\n",
              "    </tr>\n",
              "    <tr>\n",
              "      <th>2</th>\n",
              "      <td>BACKGROUND</td>\n",
              "      <td>It is not clear whether these patients would b...</td>\n",
              "      <td>clear whether patients would benefit antifunga...</td>\n",
              "    </tr>\n",
              "    <tr>\n",
              "      <th>3</th>\n",
              "      <td>OBJECTIVE</td>\n",
              "      <td>We sought to determine whether a 3-month cours...</td>\n",
              "      <td>sought determine whether 3month course voricon...</td>\n",
              "    </tr>\n",
              "    <tr>\n",
              "      <th>4</th>\n",
              "      <td>METHODS</td>\n",
              "      <td>Asthmatic patients who were IgE sensitized to ...</td>\n",
              "      <td>asthmatic patients ige sensitized fumigatus hi...</td>\n",
              "    </tr>\n",
              "    <tr>\n",
              "      <th>5</th>\n",
              "      <td>METHODS</td>\n",
              "      <td>Primary outcomes were improvement in quality o...</td>\n",
              "      <td>primary outcomes improvement quality life end ...</td>\n",
              "    </tr>\n",
              "    <tr>\n",
              "      <th>6</th>\n",
              "      <td>RESULTS</td>\n",
              "      <td>Sixty-five patients were randomized .</td>\n",
              "      <td>sixtyfive patients randomized</td>\n",
              "    </tr>\n",
              "    <tr>\n",
              "      <th>7</th>\n",
              "      <td>RESULTS</td>\n",
              "      <td>Fifty-nine patients started treatment ( 32 rec...</td>\n",
              "      <td>fiftynine patients started treatment 32 receiv...</td>\n",
              "    </tr>\n",
              "    <tr>\n",
              "      <th>8</th>\n",
              "      <td>RESULTS</td>\n",
              "      <td>Fifty-six patients took the full 3 months of m...</td>\n",
              "      <td>fiftysix patients took full 3 months medication</td>\n",
              "    </tr>\n",
              "    <tr>\n",
              "      <th>9</th>\n",
              "      <td>RESULTS</td>\n",
              "      <td>Between the voriconazole and placebo groups , ...</td>\n",
              "      <td>voriconazole placebo groups significant differ...</td>\n",
              "    </tr>\n",
              "    <tr>\n",
              "      <th>10</th>\n",
              "      <td>CONCLUSIONS</td>\n",
              "      <td>We were unable to show a beneficial effect of ...</td>\n",
              "      <td>unable show beneficial effect 3 months treatme...</td>\n",
              "    </tr>\n",
              "    <tr>\n",
              "      <th>12</th>\n",
              "      <td>BACKGROUND</td>\n",
              "      <td>Opioid antagonists ( e.g. , naltrexone ) and p...</td>\n",
              "      <td>opioid antagonists eg naltrexone positive modu...</td>\n",
              "    </tr>\n",
              "    <tr>\n",
              "      <th>13</th>\n",
              "      <td>BACKGROUND</td>\n",
              "      <td>The use of higher doses to achieve greater eff...</td>\n",
              "      <td>use higher doses achieve greater efficacy prec...</td>\n",
              "    </tr>\n",
              "  </tbody>\n",
              "</table>\n",
              "</div>"
            ],
            "text/plain": [
              "         labels  ...                                       cleaned_text\n",
              "1    BACKGROUND  ...  ige sensitization aspergillus fumigatus positi...\n",
              "2    BACKGROUND  ...  clear whether patients would benefit antifunga...\n",
              "3     OBJECTIVE  ...  sought determine whether 3month course voricon...\n",
              "4       METHODS  ...  asthmatic patients ige sensitized fumigatus hi...\n",
              "5       METHODS  ...  primary outcomes improvement quality life end ...\n",
              "6       RESULTS  ...                      sixtyfive patients randomized\n",
              "7       RESULTS  ...  fiftynine patients started treatment 32 receiv...\n",
              "8       RESULTS  ...    fiftysix patients took full 3 months medication\n",
              "9       RESULTS  ...  voriconazole placebo groups significant differ...\n",
              "10  CONCLUSIONS  ...  unable show beneficial effect 3 months treatme...\n",
              "12   BACKGROUND  ...  opioid antagonists eg naltrexone positive modu...\n",
              "13   BACKGROUND  ...  use higher doses achieve greater efficacy prec...\n",
              "\n",
              "[12 rows x 3 columns]"
            ]
          },
          "metadata": {},
          "execution_count": 22
        }
      ]
    },
    {
      "cell_type": "code",
      "metadata": {
        "colab": {
          "base_uri": "https://localhost:8080/"
        },
        "id": "1ZfHXvKhiiup",
        "outputId": "8c1415a6-abf3-4098-e7e1-5c6e4e522b43"
      },
      "source": [
        "val_sentences_clean = data_clean_val[\"cleaned_text\"].tolist()\n",
        "len(val_sentences_clean)"
      ],
      "execution_count": 23,
      "outputs": [
        {
          "output_type": "execute_result",
          "data": {
            "text/plain": [
              "30212"
            ]
          },
          "metadata": {},
          "execution_count": 23
        }
      ]
    },
    {
      "cell_type": "code",
      "metadata": {
        "colab": {
          "base_uri": "https://localhost:8080/"
        },
        "id": "TjB5KCDIi56s",
        "outputId": "6f7bc052-d021-4b99-96d3-a01471b97b1a"
      },
      "source": [
        "val_labels_encoded = label_encoder.fit_transform(data_clean_val[\"labels\"].to_numpy())\n",
        "\n",
        "val_labels_encoded"
      ],
      "execution_count": 24,
      "outputs": [
        {
          "output_type": "execute_result",
          "data": {
            "text/plain": [
              "array([0, 0, 3, ..., 4, 1, 1])"
            ]
          },
          "metadata": {},
          "execution_count": 24
        }
      ]
    },
    {
      "cell_type": "code",
      "metadata": {
        "id": "zjMsuNswv31x"
      },
      "source": [
        "val_labels_one_hot = one_hot_encoder.fit_transform(data_clean_val[\"labels\"].to_numpy().reshape(-1, 1))"
      ],
      "execution_count": 25,
      "outputs": []
    },
    {
      "cell_type": "code",
      "metadata": {
        "colab": {
          "base_uri": "https://localhost:8080/"
        },
        "id": "M7slWI_vjN0_",
        "outputId": "304c1e3a-a08a-48c4-a269-69faf61a481b"
      },
      "source": [
        "model.score(X=val_sentences_clean,y=val_labels_encoded)"
      ],
      "execution_count": 26,
      "outputs": [
        {
          "output_type": "execute_result",
          "data": {
            "text/plain": [
              "0.7044220839401563"
            ]
          },
          "metadata": {},
          "execution_count": 26
        }
      ]
    },
    {
      "cell_type": "code",
      "metadata": {
        "colab": {
          "base_uri": "https://localhost:8080/"
        },
        "id": "bV-7P23YjeIh",
        "outputId": "ba7c8809-06cd-4e08-eff2-fa657ef4f7e9"
      },
      "source": [
        "preds = model.predict(val_sentences_clean)\n",
        "preds"
      ],
      "execution_count": 27,
      "outputs": [
        {
          "output_type": "execute_result",
          "data": {
            "text/plain": [
              "array([4, 1, 2, ..., 4, 4, 1])"
            ]
          },
          "metadata": {},
          "execution_count": 27
        }
      ]
    },
    {
      "cell_type": "code",
      "metadata": {
        "colab": {
          "base_uri": "https://localhost:8080/",
          "height": 35
        },
        "id": "hjYfU442jp6z",
        "outputId": "287c7a07-1d7b-472b-d4d6-e72549caca06"
      },
      "source": [
        "sent_lens = [len(sentence.split()) for sentence in train_sentences_clean]\n",
        "avg_sent_len = np.mean(sent_lens)\n",
        "f\"Average lenght of sentence in the train corpus is {avg_sent_len}\""
      ],
      "execution_count": 28,
      "outputs": [
        {
          "output_type": "execute_result",
          "data": {
            "application/vnd.google.colaboratory.intrinsic+json": {
              "type": "string"
            },
            "text/plain": [
              "'Average lenght of sentence in the train corpus is 14.820523217062876'"
            ]
          },
          "metadata": {},
          "execution_count": 28
        }
      ]
    },
    {
      "cell_type": "code",
      "metadata": {
        "colab": {
          "base_uri": "https://localhost:8080/",
          "height": 265
        },
        "id": "jf6Jk0r3kT54",
        "outputId": "0484f9a9-8608-400e-ca32-183b5ecdcd9c"
      },
      "source": [
        "import matplotlib.pyplot as plt\n",
        "plt.hist(sent_lens, bins=7);"
      ],
      "execution_count": null,
      "outputs": [
        {
          "output_type": "display_data",
          "data": {
            "image/png": "[encoded data removed]",
            "text/plain": [
              "<Figure size 432x288 with 1 Axes>"
            ]
          },
          "metadata": {
            "needs_background": "light"
          }
        }
      ]
    },
    {
      "cell_type": "code",
      "metadata": {
        "colab": {
          "base_uri": "https://localhost:8080/",
          "height": 35
        },
        "id": "NT3Rd8N1kbwX",
        "outputId": "aaba81d4-ed98-4924-876d-2dfa7dc7e006"
      },
      "source": [
        "output_seq_len = int(np.percentile(sent_lens, 95))\n",
        "output_seq_len\n",
        "\n",
        "f\"95% of the sentences in our training set have a length of {output_seq_len} tokens or less.\""
      ],
      "execution_count": 29,
      "outputs": [
        {
          "output_type": "execute_result",
          "data": {
            "application/vnd.google.colaboratory.intrinsic+json": {
              "type": "string"
            },
            "text/plain": [
              "'95% of the sentences in our training set have a length of 30 tokens or less.'"
            ]
          },
          "metadata": {},
          "execution_count": 29
        }
      ]
    },
    {
      "cell_type": "code",
      "metadata": {
        "id": "r4rVFC6zk2p8"
      },
      "source": [
        "max_tokens = 89024"
      ],
      "execution_count": 30,
      "outputs": []
    },
    {
      "cell_type": "code",
      "metadata": {
        "id": "ARahCT38pHjv"
      },
      "source": [
        "from tensorflow.keras.layers.experimental.preprocessing import TextVectorization\n",
        "\n",
        "text_vectorizer = TextVectorization(max_tokens=max_tokens, \n",
        "                                    output_sequence_length=30) "
      ],
      "execution_count": 31,
      "outputs": []
    },
    {
      "cell_type": "code",
      "metadata": {
        "id": "G0py6e0XpPVZ"
      },
      "source": [
        "text_vectorizer.adapt(train_sentences_clean)"
      ],
      "execution_count": 32,
      "outputs": []
    },
    {
      "cell_type": "code",
      "metadata": {
        "colab": {
          "base_uri": "https://localhost:8080/"
        },
        "id": "WpuryOTqrNhZ",
        "outputId": "cf4e0a80-6a64-4990-ac85-8672a4ed2424"
      },
      "source": [
        "import random\n",
        "target_sentence = random.choice(train_sentences_clean)\n",
        "print(f\"Text:\\n{target_sentence}\")\n",
        "print(f\"\\nLength of text: {len(target_sentence.split())}\")\n",
        "print(f\"\\nVectorized text:\\n{text_vectorizer([target_sentence])}\")"
      ],
      "execution_count": 33,
      "outputs": [
        {
          "output_type": "stream",
          "name": "stdout",
          "text": [
            "Text:\n",
            "dosage cinacalcet optimized patient order obtain reduction parathyroid hormone pth within normal limits enabling maintenance adequate calcemic values\n",
            "\n",
            "Length of text: 18\n",
            "\n",
            "Vectorized text:\n",
            "[[ 1571  8127  3879    90   922  3090   130  5549  1146  3639   174   380\n",
            "   2974  7954   602  1423 46404   295     0     0     0     0     0     0\n",
            "      0     0     0     0     0     0]]\n"
          ]
        }
      ]
    },
    {
      "cell_type": "code",
      "metadata": {
        "colab": {
          "base_uri": "https://localhost:8080/"
        },
        "id": "cg1XhBH0pn1h",
        "outputId": "76163f69-578f-4ec2-e9bc-149053169eda"
      },
      "source": [
        "# No.of words in our training vocabulary\n",
        "rct_20k_text_vocab = text_vectorizer.get_vocabulary()\n",
        "print(f\"Number of words in vocabulary: {len(rct_20k_text_vocab)}\"), \n",
        "print(f\"Most common words in the vocabulary: {rct_20k_text_vocab[:5]}\")\n",
        "print(f\"Least common words in the vocabulary: {rct_20k_text_vocab[-5:]}\")"
      ],
      "execution_count": 34,
      "outputs": [
        {
          "output_type": "stream",
          "name": "stdout",
          "text": [
            "Number of words in vocabulary: 89022\n",
            "Most common words in the vocabulary: ['', '[UNK]', 'patients', 'group', 'p']\n",
            "Least common words in the vocabulary: ['000000752', '0000005', '000000154108', '0000001', '0000000072']\n"
          ]
        }
      ]
    },
    {
      "cell_type": "code",
      "metadata": {
        "id": "uV7CfncsrxQU"
      },
      "source": [
        "import tensorflow as tf\n",
        "from tensorflow.keras import layers"
      ],
      "execution_count": 35,
      "outputs": []
    },
    {
      "cell_type": "code",
      "metadata": {
        "colab": {
          "base_uri": "https://localhost:8080/"
        },
        "id": "ISE3YBZ1qAhg",
        "outputId": "c684f737-020d-41c1-ce10-84deb8d5385b"
      },
      "source": [
        "# Create token embedding layer\n",
        "token_embed = layers.Embedding(input_dim=len(rct_20k_text_vocab), # length of vocabulary\n",
        "                               output_dim=128, # Note: different embedding sizes result in drastically different numbers of parameters to train\n",
        "                               # Use masking to handle variable sequence lengths (save space)\n",
        "                               mask_zero=True,\n",
        "                               name=\"token_embedding\") \n",
        "\n",
        "\n",
        "print(f\"Sentence before vectorization:\\n{target_sentence}\\n\")\n",
        "vectorized_sentence = text_vectorizer([target_sentence])\n",
        "print(f\"Sentence after vectorization (before embedding):\\n{vectorized_sentence}\\n\")\n",
        "embedded_sentence = token_embed(vectorized_sentence)\n",
        "print(f\"Sentence after embedding:\\n{embedded_sentence}\\n\")\n",
        "print(f\"Embedded sentence shape: {embedded_sentence.shape}\")"
      ],
      "execution_count": 36,
      "outputs": [
        {
          "output_type": "stream",
          "name": "stdout",
          "text": [
            "Sentence before vectorization:\n",
            "dosage cinacalcet optimized patient order obtain reduction parathyroid hormone pth within normal limits enabling maintenance adequate calcemic values\n",
            "\n",
            "Sentence after vectorization (before embedding):\n",
            "[[ 1571  8127  3879    90   922  3090   130  5549  1146  3639   174   380\n",
            "   2974  7954   602  1423 46404   295     0     0     0     0     0     0\n",
            "      0     0     0     0     0     0]]\n",
            "\n",
            "Sentence after embedding:\n",
            "[[[-0.03186885 -0.0008867   0.02572978 ... -0.04371177 -0.03813471\n",
            "   -0.02377148]\n",
            "  [-0.02963815 -0.04818478 -0.03441526 ... -0.02401507  0.01119604\n",
            "    0.03175988]\n",
            "  [ 0.00807964  0.01978525 -0.02638439 ... -0.00292419  0.03625014\n",
            "   -0.00934353]\n",
            "  ...\n",
            "  [ 0.04723258 -0.00219239 -0.04856714 ... -0.02899929  0.03410269\n",
            "   -0.03981503]\n",
            "  [ 0.04723258 -0.00219239 -0.04856714 ... -0.02899929  0.03410269\n",
            "   -0.03981503]\n",
            "  [ 0.04723258 -0.00219239 -0.04856714 ... -0.02899929  0.03410269\n",
            "   -0.03981503]]]\n",
            "\n",
            "Embedded sentence shape: (1, 30, 128)\n"
          ]
        }
      ]
    },
    {
      "cell_type": "code",
      "metadata": {
        "id": "NuxWkhU3raPU"
      },
      "source": [
        "train_dataset = tf.data.Dataset.from_tensor_slices((train_sentences_clean, train_labels_one_hot))"
      ],
      "execution_count": 108,
      "outputs": []
    },
    {
      "cell_type": "code",
      "metadata": {
        "colab": {
          "base_uri": "https://localhost:8080/"
        },
        "id": "k051BORTraL5",
        "outputId": "77c0f5d9-1135-4de1-ed65-c0fd1b6b7e24"
      },
      "source": [
        "train_dataset"
      ],
      "execution_count": 38,
      "outputs": [
        {
          "output_type": "execute_result",
          "data": {
            "text/plain": [
              "<TensorSliceDataset shapes: ((), (5,)), types: (tf.string, tf.float64)>"
            ]
          },
          "metadata": {},
          "execution_count": 38
        }
      ]
    },
    {
      "cell_type": "code",
      "metadata": {
        "id": "G9F0yOlEraI2"
      },
      "source": [
        "# Take the TensorSliceDataset's and turn them into prefetched batches\n",
        "\n",
        "train_dataset = train_dataset.batch(32).prefetch(tf.data.AUTOTUNE)"
      ],
      "execution_count": 109,
      "outputs": []
    },
    {
      "cell_type": "code",
      "metadata": {
        "id": "QsVOAQURraFr"
      },
      "source": [
        "# Create 1D convolutional model to process sequences\n",
        "inputs = layers.Input(shape=(1,), dtype=tf.string)\n",
        "text_vectors = text_vectorizer(inputs) # vectorize text inputs\n",
        "token_embeddings = token_embed(text_vectors) # create embedding\n",
        "x = layers.Conv1D(64, kernel_size=5, padding=\"same\", activation=\"relu\")(token_embeddings)\n",
        "x = layers.GlobalAveragePooling1D()(x) # condense the output of our feature vector\n",
        "outputs = layers.Dense(5, activation=\"softmax\")(x)\n",
        "model_cnn = tf.keras.Model(inputs, outputs)\n",
        "\n",
        "# Compile \n",
        "model_cnn.compile(loss=\"categorical_crossentropy\", # if your labels are integer form (not one hot) use sparse_categorical_crossentropy\n",
        "                optimizer=tf.keras.optimizers.Adam(),\n",
        "                metrics=[\"accuracy\"])"
      ],
      "execution_count": 40,
      "outputs": []
    },
    {
      "cell_type": "code",
      "metadata": {
        "colab": {
          "base_uri": "https://localhost:8080/"
        },
        "id": "ldfhiopUrZ-h",
        "outputId": "7c9acdd9-ebf6-43b5-bb07-4be09ee3c0cd"
      },
      "source": [
        "model_cnn.summary()"
      ],
      "execution_count": null,
      "outputs": [
        {
          "output_type": "stream",
          "name": "stdout",
          "text": [
            "Model: \"model\"\n",
            "_________________________________________________________________\n",
            " Layer (type)                Output Shape              Param #   \n",
            "=================================================================\n",
            " input_1 (InputLayer)        [(None, 1)]               0         \n",
            "                                                                 \n",
            " text_vectorization_1 (TextV  (None, 30)               0         \n",
            " ectorization)                                                   \n",
            "                                                                 \n",
            " token_embedding (Embedding)  (None, 30, 128)          11394816  \n",
            "                                                                 \n",
            " conv1d (Conv1D)             (None, 30, 64)            41024     \n",
            "                                                                 \n",
            " global_average_pooling1d (G  (None, 64)               0         \n",
            " lobalAveragePooling1D)                                          \n",
            "                                                                 \n",
            " dense (Dense)               (None, 5)                 325       \n",
            "                                                                 \n",
            "=================================================================\n",
            "Total params: 11,436,165\n",
            "Trainable params: 11,436,165\n",
            "Non-trainable params: 0\n",
            "_________________________________________________________________\n"
          ]
        }
      ]
    },
    {
      "cell_type": "code",
      "metadata": {
        "id": "bB3p-yTJvkP7"
      },
      "source": [
        "valid_dataset = tf.data.Dataset.from_tensor_slices((val_sentences_clean, val_labels_one_hot))\n",
        "valid_dataset = valid_dataset.batch(32).prefetch(tf.data.AUTOTUNE)"
      ],
      "execution_count": 107,
      "outputs": []
    },
    {
      "cell_type": "code",
      "metadata": {
        "colab": {
          "base_uri": "https://localhost:8080/"
        },
        "id": "5cdggPNfvkMm",
        "outputId": "4f06a7c4-4e17-4c94-b37a-f4461143da7b"
      },
      "source": [
        "model_cnn_history = model_cnn.fit(train_dataset,\n",
        "                              steps_per_epoch=int(0.15 * len(train_dataset)), # only fit on 15% of batches for faster training time\n",
        "                              epochs=3,\n",
        "                              validation_data=valid_dataset,\n",
        "                              validation_steps=int(0.15 * len(valid_dataset))) # only validate on 15% of batches"
      ],
      "execution_count": 42,
      "outputs": [
        {
          "output_type": "stream",
          "name": "stdout",
          "text": [
            "Epoch 1/3\n",
            "844/844 [==============================] - 112s 131ms/step - loss: 0.8704 - accuracy: 0.6590 - val_loss: 0.6916 - val_accuracy: 0.7349\n",
            "Epoch 2/3\n",
            "844/844 [==============================] - 110s 130ms/step - loss: 0.6750 - accuracy: 0.7464 - val_loss: 0.6292 - val_accuracy: 0.7686\n",
            "Epoch 3/3\n",
            "844/844 [==============================] - 109s 129ms/step - loss: 0.6398 - accuracy: 0.7649 - val_loss: 0.6020 - val_accuracy: 0.7808\n"
          ]
        }
      ]
    },
    {
      "cell_type": "code",
      "metadata": {
        "colab": {
          "base_uri": "https://localhost:8080/"
        },
        "id": "hJqTs8rQwVse",
        "outputId": "3284c366-0ec0-452d-89aa-5fa57157a76f"
      },
      "source": [
        "model_cnn.evaluate(valid_dataset)"
      ],
      "execution_count": 43,
      "outputs": [
        {
          "output_type": "stream",
          "name": "stdout",
          "text": [
            "945/945 [==============================] - 5s 5ms/step - loss: 0.6198 - accuracy: 0.7752\n"
          ]
        },
        {
          "output_type": "execute_result",
          "data": {
            "text/plain": [
              "[0.6198186874389648, 0.7751555442810059]"
            ]
          },
          "metadata": {},
          "execution_count": 43
        }
      ]
    },
    {
      "cell_type": "code",
      "metadata": {
        "colab": {
          "base_uri": "https://localhost:8080/"
        },
        "id": "2eTPPmhvxyM9",
        "outputId": "7df78184-d1e3-4fc9-be88-418f6cf757cc"
      },
      "source": [
        "pred_probs = model_cnn.predict(valid_dataset)\n",
        "preds = tf.argmax(pred_probs, axis=1)\n",
        "preds"
      ],
      "execution_count": 44,
      "outputs": [
        {
          "output_type": "execute_result",
          "data": {
            "text/plain": [
              "<tf.Tensor: shape=(30212,), dtype=int64, numpy=array([0, 0, 3, ..., 4, 4, 1])>"
            ]
          },
          "metadata": {},
          "execution_count": 44
        }
      ]
    },
    {
      "cell_type": "code",
      "metadata": {
        "id": "raPqviu5yFZS"
      },
      "source": [
        "test_pred_classes = [label_encoder.classes_[pred] for pred in preds]\n",
        "test_pred_classes"
      ],
      "execution_count": null,
      "outputs": []
    },
    {
      "cell_type": "code",
      "metadata": {
        "colab": {
          "base_uri": "https://localhost:8080/",
          "height": 676
        },
        "id": "yu2lKZ2ty7ZM",
        "outputId": "38c3fa3a-7c01-4929-c8d0-2a7653644e6e"
      },
      "source": [
        "data_val[\"prediction\"] = test_pred_classes # create column with test prediction class names\n",
        "data_val[\"pred_prob\"] = tf.reduce_max(pred_probs, axis=1).numpy() # get the maximum prediction probability\n",
        "data_val[\"correct\"] = data_val[\"prediction\"] == data_val[\"labels\"] # create binary column for whether the prediction is right or not\n",
        "data_val.head(20)"
      ],
      "execution_count": 47,
      "outputs": [
        {
          "output_type": "execute_result",
          "data": {
            "text/html": [
              "<div>\n",
              "<style scoped>\n",
              "    .dataframe tbody tr th:only-of-type {\n",
              "        vertical-align: middle;\n",
              "    }\n",
              "\n",
              "    .dataframe tbody tr th {\n",
              "        vertical-align: top;\n",
              "    }\n",
              "\n",
              "    .dataframe thead th {\n",
              "        text-align: right;\n",
              "    }\n",
              "</style>\n",
              "<table border=\"1\" class=\"dataframe\">\n",
              "  <thead>\n",
              "    <tr style=\"text-align: right;\">\n",
              "      <th></th>\n",
              "      <th>labels</th>\n",
              "      <th>text</th>\n",
              "      <th>cleaned_text</th>\n",
              "      <th>prediction</th>\n",
              "      <th>pred_prob</th>\n",
              "      <th>correct</th>\n",
              "    </tr>\n",
              "  </thead>\n",
              "  <tbody>\n",
              "    <tr>\n",
              "      <th>1</th>\n",
              "      <td>BACKGROUND</td>\n",
              "      <td>IgE sensitization to Aspergillus fumigatus and...</td>\n",
              "      <td>ige sensitization aspergillus fumigatus positi...</td>\n",
              "      <td>BACKGROUND</td>\n",
              "      <td>0.352269</td>\n",
              "      <td>True</td>\n",
              "    </tr>\n",
              "    <tr>\n",
              "      <th>2</th>\n",
              "      <td>BACKGROUND</td>\n",
              "      <td>It is not clear whether these patients would b...</td>\n",
              "      <td>clear whether patients would benefit antifunga...</td>\n",
              "      <td>BACKGROUND</td>\n",
              "      <td>0.552947</td>\n",
              "      <td>True</td>\n",
              "    </tr>\n",
              "    <tr>\n",
              "      <th>3</th>\n",
              "      <td>OBJECTIVE</td>\n",
              "      <td>We sought to determine whether a 3-month cours...</td>\n",
              "      <td>sought determine whether 3month course voricon...</td>\n",
              "      <td>OBJECTIVE</td>\n",
              "      <td>0.788738</td>\n",
              "      <td>True</td>\n",
              "    </tr>\n",
              "    <tr>\n",
              "      <th>4</th>\n",
              "      <td>METHODS</td>\n",
              "      <td>Asthmatic patients who were IgE sensitized to ...</td>\n",
              "      <td>asthmatic patients ige sensitized fumigatus hi...</td>\n",
              "      <td>METHODS</td>\n",
              "      <td>0.998078</td>\n",
              "      <td>True</td>\n",
              "    </tr>\n",
              "    <tr>\n",
              "      <th>5</th>\n",
              "      <td>METHODS</td>\n",
              "      <td>Primary outcomes were improvement in quality o...</td>\n",
              "      <td>primary outcomes improvement quality life end ...</td>\n",
              "      <td>METHODS</td>\n",
              "      <td>0.832066</td>\n",
              "      <td>True</td>\n",
              "    </tr>\n",
              "    <tr>\n",
              "      <th>6</th>\n",
              "      <td>RESULTS</td>\n",
              "      <td>Sixty-five patients were randomized .</td>\n",
              "      <td>sixtyfive patients randomized</td>\n",
              "      <td>METHODS</td>\n",
              "      <td>0.650454</td>\n",
              "      <td>False</td>\n",
              "    </tr>\n",
              "    <tr>\n",
              "      <th>7</th>\n",
              "      <td>RESULTS</td>\n",
              "      <td>Fifty-nine patients started treatment ( 32 rec...</td>\n",
              "      <td>fiftynine patients started treatment 32 receiv...</td>\n",
              "      <td>RESULTS</td>\n",
              "      <td>0.740062</td>\n",
              "      <td>True</td>\n",
              "    </tr>\n",
              "    <tr>\n",
              "      <th>8</th>\n",
              "      <td>RESULTS</td>\n",
              "      <td>Fifty-six patients took the full 3 months of m...</td>\n",
              "      <td>fiftysix patients took full 3 months medication</td>\n",
              "      <td>METHODS</td>\n",
              "      <td>0.620945</td>\n",
              "      <td>False</td>\n",
              "    </tr>\n",
              "    <tr>\n",
              "      <th>9</th>\n",
              "      <td>RESULTS</td>\n",
              "      <td>Between the voriconazole and placebo groups , ...</td>\n",
              "      <td>voriconazole placebo groups significant differ...</td>\n",
              "      <td>RESULTS</td>\n",
              "      <td>0.999957</td>\n",
              "      <td>True</td>\n",
              "    </tr>\n",
              "    <tr>\n",
              "      <th>10</th>\n",
              "      <td>CONCLUSIONS</td>\n",
              "      <td>We were unable to show a beneficial effect of ...</td>\n",
              "      <td>unable show beneficial effect 3 months treatme...</td>\n",
              "      <td>CONCLUSIONS</td>\n",
              "      <td>0.853455</td>\n",
              "      <td>True</td>\n",
              "    </tr>\n",
              "    <tr>\n",
              "      <th>12</th>\n",
              "      <td>BACKGROUND</td>\n",
              "      <td>Opioid antagonists ( e.g. , naltrexone ) and p...</td>\n",
              "      <td>opioid antagonists eg naltrexone positive modu...</td>\n",
              "      <td>BACKGROUND</td>\n",
              "      <td>0.438668</td>\n",
              "      <td>True</td>\n",
              "    </tr>\n",
              "    <tr>\n",
              "      <th>13</th>\n",
              "      <td>BACKGROUND</td>\n",
              "      <td>The use of higher doses to achieve greater eff...</td>\n",
              "      <td>use higher doses achieve greater efficacy prec...</td>\n",
              "      <td>CONCLUSIONS</td>\n",
              "      <td>0.611180</td>\n",
              "      <td>False</td>\n",
              "    </tr>\n",
              "    <tr>\n",
              "      <th>14</th>\n",
              "      <td>BACKGROUND</td>\n",
              "      <td>Combining naltrexone and alprazolam might safe...</td>\n",
              "      <td>combining naltrexone alprazolam might safely m...</td>\n",
              "      <td>BACKGROUND</td>\n",
              "      <td>0.505543</td>\n",
              "      <td>True</td>\n",
              "    </tr>\n",
              "    <tr>\n",
              "      <th>15</th>\n",
              "      <td>OBJECTIVE</td>\n",
              "      <td>The present pilot study tested the hypothesis ...</td>\n",
              "      <td>present pilot study tested hypothesis acute pr...</td>\n",
              "      <td>OBJECTIVE</td>\n",
              "      <td>0.643868</td>\n",
              "      <td>True</td>\n",
              "    </tr>\n",
              "    <tr>\n",
              "      <th>16</th>\n",
              "      <td>METHODS</td>\n",
              "      <td>Eight nontreatment-seeking , stimulant-using i...</td>\n",
              "      <td>eight nontreatmentseeking stimulantusing indiv...</td>\n",
              "      <td>METHODS</td>\n",
              "      <td>0.986775</td>\n",
              "      <td>True</td>\n",
              "    </tr>\n",
              "    <tr>\n",
              "      <th>17</th>\n",
              "      <td>METHODS</td>\n",
              "      <td>Subjective effects , psychomotor task performa...</td>\n",
              "      <td>subjective effects psychomotor task performanc...</td>\n",
              "      <td>METHODS</td>\n",
              "      <td>0.665916</td>\n",
              "      <td>True</td>\n",
              "    </tr>\n",
              "    <tr>\n",
              "      <th>18</th>\n",
              "      <td>RESULTS</td>\n",
              "      <td>Oral d-amphetamine produced prototypical physi...</td>\n",
              "      <td>oral damphetamine produced prototypical physio...</td>\n",
              "      <td>CONCLUSIONS</td>\n",
              "      <td>0.696300</td>\n",
              "      <td>False</td>\n",
              "    </tr>\n",
              "    <tr>\n",
              "      <th>19</th>\n",
              "      <td>RESULTS</td>\n",
              "      <td>Pretreatment with naltrexone , alprazolam , an...</td>\n",
              "      <td>pretreatment naltrexone alprazolam combination...</td>\n",
              "      <td>CONCLUSIONS</td>\n",
              "      <td>0.638928</td>\n",
              "      <td>False</td>\n",
              "    </tr>\n",
              "    <tr>\n",
              "      <th>20</th>\n",
              "      <td>RESULTS</td>\n",
              "      <td>Naltrexone and alprazolam each significantly a...</td>\n",
              "      <td>naltrexone alprazolam significantly attenuated...</td>\n",
              "      <td>RESULTS</td>\n",
              "      <td>0.482361</td>\n",
              "      <td>True</td>\n",
              "    </tr>\n",
              "    <tr>\n",
              "      <th>21</th>\n",
              "      <td>RESULTS</td>\n",
              "      <td>The combination attenuated a greater number of...</td>\n",
              "      <td>combination attenuated greater number subjecti...</td>\n",
              "      <td>CONCLUSIONS</td>\n",
              "      <td>0.432266</td>\n",
              "      <td>False</td>\n",
              "    </tr>\n",
              "  </tbody>\n",
              "</table>\n",
              "</div>"
            ],
            "text/plain": [
              "         labels  ... correct\n",
              "1    BACKGROUND  ...    True\n",
              "2    BACKGROUND  ...    True\n",
              "3     OBJECTIVE  ...    True\n",
              "4       METHODS  ...    True\n",
              "5       METHODS  ...    True\n",
              "6       RESULTS  ...   False\n",
              "7       RESULTS  ...    True\n",
              "8       RESULTS  ...   False\n",
              "9       RESULTS  ...    True\n",
              "10  CONCLUSIONS  ...    True\n",
              "12   BACKGROUND  ...    True\n",
              "13   BACKGROUND  ...   False\n",
              "14   BACKGROUND  ...    True\n",
              "15    OBJECTIVE  ...    True\n",
              "16      METHODS  ...    True\n",
              "17      METHODS  ...    True\n",
              "18      RESULTS  ...   False\n",
              "19      RESULTS  ...   False\n",
              "20      RESULTS  ...    True\n",
              "21      RESULTS  ...   False\n",
              "\n",
              "[20 rows x 6 columns]"
            ]
          },
          "metadata": {},
          "execution_count": 47
        }
      ]
    },
    {
      "cell_type": "markdown",
      "source": [
        "Glove Embeddings"
      ],
      "metadata": {
        "id": "HlcCEmyO760f"
      }
    },
    {
      "cell_type": "code",
      "metadata": {
        "id": "S0ah-r4Rzqzy",
        "colab": {
          "base_uri": "https://localhost:8080/"
        },
        "outputId": "a38653e5-d441-48ab-acd4-6f96a9d3b2b2"
      },
      "source": [
        "embeddings_index = {}\n",
        "with open('/content/drive/MyDrive/Sequence_Classification/glove.6B.100d.txt') as f:\n",
        "    for line in f:\n",
        "        word, coefs = line.split(maxsplit=1)\n",
        "        coefs = np.fromstring(coefs, \"f\", sep=\" \")\n",
        "        embeddings_index[word] = coefs\n",
        "\n",
        "print(\"Found %s word vectors.\" % len(embeddings_index))"
      ],
      "execution_count": 48,
      "outputs": [
        {
          "output_type": "stream",
          "name": "stdout",
          "text": [
            "Found 400000 word vectors.\n"
          ]
        }
      ]
    },
    {
      "cell_type": "code",
      "source": [
        "rct_20k_text_voc = text_vectorizer.get_vocabulary()\n",
        "len(rct_20k_text_voc)"
      ],
      "metadata": {
        "colab": {
          "base_uri": "https://localhost:8080/"
        },
        "id": "de0G59q-4MU9",
        "outputId": "39824808-3e17-422a-9cb6-df3bf97966c3"
      },
      "execution_count": 51,
      "outputs": [
        {
          "output_type": "execute_result",
          "data": {
            "text/plain": [
              "89022"
            ]
          },
          "metadata": {},
          "execution_count": 51
        }
      ]
    },
    {
      "cell_type": "code",
      "source": [
        "word_index = dict(zip(rct_20k_text_voc, range(len(rct_20k_text_voc))))\n",
        "word_index"
      ],
      "metadata": {
        "id": "SOvuO5r54nCv"
      },
      "execution_count": null,
      "outputs": []
    },
    {
      "cell_type": "code",
      "source": [
        "num_tokens = len(rct_20k_text_voc)\n",
        "embedding_dim = 100\n",
        "hits = 0\n",
        "misses = 0\n",
        "\n",
        "# Prepare embedding matrix\n",
        "embedding_matrix = np.zeros((num_tokens, embedding_dim))\n",
        "for word, i in word_index.items():\n",
        "    embedding_vector = embeddings_index.get(word)\n",
        "    if embedding_vector is not None:\n",
        "        # Words not found in embedding index will be all-zeros.\n",
        "        # This includes the representation for \"padding\" and \"OOV\"\n",
        "        embedding_matrix[i] = embedding_vector\n",
        "        hits += 1\n",
        "    else:\n",
        "        misses += 1\n",
        "print(\"Converted %d words (%d misses)\" % (hits, misses))"
      ],
      "metadata": {
        "colab": {
          "base_uri": "https://localhost:8080/"
        },
        "id": "xnev-4uX7GZ6",
        "outputId": "e4afbfa7-dc48-4504-d4e8-2f4ce9375cf5"
      },
      "execution_count": 81,
      "outputs": [
        {
          "output_type": "stream",
          "name": "stdout",
          "text": [
            "Converted 32993 words (56029 misses)\n"
          ]
        }
      ]
    },
    {
      "cell_type": "code",
      "source": [
        "from tensorflow.keras.layers import Embedding\n",
        "import keras\n",
        "\n",
        "embedding_layer = Embedding(\n",
        "    num_tokens,\n",
        "    embedding_dim,\n",
        "    embeddings_initializer=keras.initializers.Constant(embedding_matrix),\n",
        "    trainable=False,\n",
        ")"
      ],
      "metadata": {
        "id": "l5WBnboD7khQ"
      },
      "execution_count": 82,
      "outputs": []
    },
    {
      "cell_type": "code",
      "source": [
        "print(f\"Sentence before vectorization:\\n{target_sentence}\\n\")\n",
        "vectorized_sentence = text_vectorizer([target_sentence])\n",
        "print(f\"Sentence after vectorization (before embedding):\\n{vectorized_sentence}\\n\")\n",
        "embedded_sentence = embedding_layer(vectorized_sentence)\n",
        "print(f\"Sentence after embedding:\\n{embedded_sentence}\\n\")\n",
        "print(f\"Embedded sentence shape: {embedded_sentence.shape}\")"
      ],
      "metadata": {
        "colab": {
          "base_uri": "https://localhost:8080/"
        },
        "id": "FlhLjAZbBLBa",
        "outputId": "563c6c1e-d57a-4105-e882-e3a484fb59de"
      },
      "execution_count": 83,
      "outputs": [
        {
          "output_type": "stream",
          "name": "stdout",
          "text": [
            "Sentence before vectorization:\n",
            "dosage cinacalcet optimized patient order obtain reduction parathyroid hormone pth within normal limits enabling maintenance adequate calcemic values\n",
            "\n",
            "Sentence after vectorization (before embedding):\n",
            "[[ 1571  8127  3879    90   922  3090   130  5549  1146  3639   174   380\n",
            "   2974  7954   602  1423 46404   295     0     0     0     0     0     0\n",
            "      0     0     0     0     0     0]]\n",
            "\n",
            "Sentence after embedding:\n",
            "[[[ 3.1166e-01 -1.3307e-01  8.3032e-04 ... -8.6570e-01  2.2890e-01\n",
            "    1.3816e-01]\n",
            "  [ 0.0000e+00  0.0000e+00  0.0000e+00 ...  0.0000e+00  0.0000e+00\n",
            "    0.0000e+00]\n",
            "  [-1.1404e+00  1.7574e-02 -4.9440e-01 ... -6.1371e-01  5.3901e-01\n",
            "   -1.6767e-01]\n",
            "  ...\n",
            "  [ 0.0000e+00  0.0000e+00  0.0000e+00 ...  0.0000e+00  0.0000e+00\n",
            "    0.0000e+00]\n",
            "  [ 0.0000e+00  0.0000e+00  0.0000e+00 ...  0.0000e+00  0.0000e+00\n",
            "    0.0000e+00]\n",
            "  [ 0.0000e+00  0.0000e+00  0.0000e+00 ...  0.0000e+00  0.0000e+00\n",
            "    0.0000e+00]]]\n",
            "\n",
            "Embedded sentence shape: (1, 30, 100)\n"
          ]
        }
      ]
    },
    {
      "cell_type": "code",
      "source": [
        "inputs = layers.Input(shape=[], dtype=tf.string)\n",
        "pretrained_embedding = embedding_layer(inputs) # tokenize text and create embedding\n",
        "x = layers.Dense(128, activation=\"relu\")(pretrained_embedding) # add a fully connected layer on top of the embedding\n",
        "outputs = layers.Dense(5, activation=\"softmax\")(x) # create the output layer\n",
        "model_cnn_2 = tf.keras.Model(inputs=inputs,\n",
        "                        outputs=outputs)\n",
        "\n",
        "# Compile the model\n",
        "model_cnn_2.compile(loss=\"categorical_crossentropy\",\n",
        "                optimizer=tf.keras.optimizers.Adam(),\n",
        "                metrics=[\"accuracy\"])"
      ],
      "metadata": {
        "id": "W4HRjOnJF39w"
      },
      "execution_count": 114,
      "outputs": []
    },
    {
      "cell_type": "code",
      "source": [
        "model_cnn_2.summary()"
      ],
      "metadata": {
        "colab": {
          "base_uri": "https://localhost:8080/"
        },
        "id": "OjaSFycBSEHd",
        "outputId": "98deb1e4-db72-4d7a-c46e-817a914c38b4"
      },
      "execution_count": 116,
      "outputs": [
        {
          "output_type": "stream",
          "name": "stdout",
          "text": [
            "Model: \"model_12\"\n",
            "_________________________________________________________________\n",
            " Layer (type)                Output Shape              Param #   \n",
            "=================================================================\n",
            " input_15 (InputLayer)       [(None,)]                 0         \n",
            "                                                                 \n",
            " embedding_2 (Embedding)     multiple                  8902200   \n",
            "                                                                 \n",
            " dense_18 (Dense)            (None, 128)               12928     \n",
            "                                                                 \n",
            " dense_19 (Dense)            (None, 5)                 645       \n",
            "                                                                 \n",
            "=================================================================\n",
            "Total params: 8,915,773\n",
            "Trainable params: 13,573\n",
            "Non-trainable params: 8,902,200\n",
            "_________________________________________________________________\n"
          ]
        }
      ]
    },
    {
      "cell_type": "code",
      "source": [
        "import tensorflow_hub as hub\n",
        "tf_hub_embedding_layer = hub.KerasLayer(\"https://tfhub.dev/google/universal-sentence-encoder/4\",\n",
        "                                        trainable=False,\n",
        "                                        name=\"universal_sentence_encoder\")"
      ],
      "metadata": {
        "id": "ZmcZDM8v-GpO"
      },
      "execution_count": 97,
      "outputs": []
    },
    {
      "cell_type": "code",
      "source": [
        "\n",
        "print(f\"Random training sentence:\\n{target_sentence}\\n\")\n",
        "use_embedded_sentence = tf_hub_embedding_layer([target_sentence])\n",
        "print(f\"Sentence after embedding:\\n{use_embedded_sentence[0][:30]} (truncated output)...\\n\")\n",
        "print(f\"Length of sentence embedding:\\n{len(use_embedded_sentence[0])}\")\n"
      ],
      "metadata": {
        "colab": {
          "base_uri": "https://localhost:8080/"
        },
        "id": "dlxDhftMNq-V",
        "outputId": "98ff6c70-ed94-430e-c5f1-cd7a3106369c"
      },
      "execution_count": 100,
      "outputs": [
        {
          "output_type": "stream",
          "name": "stdout",
          "text": [
            "Random training sentence:\n",
            "dosage cinacalcet optimized patient order obtain reduction parathyroid hormone pth within normal limits enabling maintenance adequate calcemic values\n",
            "\n",
            "Sentence after embedding:\n",
            "[-0.01707884 -0.06659996  0.06820351  0.04513564  0.01160741  0.01777578\n",
            "  0.01632764 -0.04977015 -0.05457278  0.05235256  0.07824901  0.01490822\n",
            " -0.05626828  0.015588    0.0242093  -0.02930783 -0.07907224  0.04095342\n",
            " -0.01054843  0.05190801 -0.07557955  0.03356243  0.05159245 -0.0403204\n",
            "  0.07211755 -0.07320654 -0.01181921  0.05056218 -0.06812877  0.0551029 ] (truncated output)...\n",
            "\n",
            "Length of sentence embedding:\n",
            "512\n"
          ]
        }
      ]
    },
    {
      "cell_type": "code",
      "source": [
        "inputs = layers.Input(shape=[], dtype=tf.string)\n",
        "pretrained_embedding = tf_hub_embedding_layer(inputs) # tokenize text and create embedding\n",
        "x = layers.Dense(128, activation=\"relu\")(pretrained_embedding) # add a fully connected layer on top of the embedding\n",
        "outputs = layers.Dense(5, activation=\"softmax\")(x) # create the output layer\n",
        "model_2 = tf.keras.Model(inputs=inputs,\n",
        "                        outputs=outputs)\n",
        "\n",
        "# Compile the model\n",
        "model_2.compile(loss=\"categorical_crossentropy\",\n",
        "                optimizer=tf.keras.optimizers.Adam(),\n",
        "                metrics=[\"accuracy\"])"
      ],
      "metadata": {
        "id": "-XsarGLvOd4k"
      },
      "execution_count": 120,
      "outputs": []
    },
    {
      "cell_type": "code",
      "source": [
        "model_2.summary()"
      ],
      "metadata": {
        "colab": {
          "base_uri": "https://localhost:8080/"
        },
        "id": "hd7IwJN7PjaO",
        "outputId": "0d2bd575-38b4-4d08-cee9-9b3e4bc9b568"
      },
      "execution_count": 121,
      "outputs": [
        {
          "output_type": "stream",
          "name": "stdout",
          "text": [
            "Model: \"model_13\"\n",
            "_________________________________________________________________\n",
            " Layer (type)                Output Shape              Param #   \n",
            "=================================================================\n",
            " input_16 (InputLayer)       [(None,)]                 0         \n",
            "                                                                 \n",
            " universal_sentence_encoder   (None, 512)              256797824 \n",
            " (KerasLayer)                                                    \n",
            "                                                                 \n",
            " dense_20 (Dense)            (None, 128)               65664     \n",
            "                                                                 \n",
            " dense_21 (Dense)            (None, 5)                 645       \n",
            "                                                                 \n",
            "=================================================================\n",
            "Total params: 256,864,133\n",
            "Trainable params: 66,309\n",
            "Non-trainable params: 256,797,824\n",
            "_________________________________________________________________\n"
          ]
        }
      ]
    },
    {
      "cell_type": "code",
      "source": [
        "model_2.fit(train_dataset,\n",
        "            steps_per_epoch=int(0.1 * len(train_dataset)),\n",
        "            epochs=3,\n",
        "            validation_data=valid_dataset,\n",
        "            validation_steps=int(0.1 * len(valid_dataset)))"
      ],
      "metadata": {
        "colab": {
          "base_uri": "https://localhost:8080/"
        },
        "id": "WKJclCZ-PSrQ",
        "outputId": "05c1adb8-79bd-4e7d-a022-1509b646a82a"
      },
      "execution_count": 122,
      "outputs": [
        {
          "output_type": "stream",
          "name": "stdout",
          "text": [
            "Epoch 1/3\n",
            "562/562 [==============================] - 9s 15ms/step - loss: 0.9919 - accuracy: 0.6157 - val_loss: 0.8768 - val_accuracy: 0.6602\n",
            "Epoch 2/3\n",
            "562/562 [==============================] - 8s 14ms/step - loss: 0.8534 - accuracy: 0.6655 - val_loss: 0.8476 - val_accuracy: 0.6719\n",
            "Epoch 3/3\n",
            "562/562 [==============================] - 8s 14ms/step - loss: 0.8407 - accuracy: 0.6724 - val_loss: 0.8458 - val_accuracy: 0.6676\n"
          ]
        },
        {
          "output_type": "execute_result",
          "data": {
            "text/plain": [
              "<keras.callbacks.History at 0x7f3863674d90>"
            ]
          },
          "metadata": {},
          "execution_count": 122
        }
      ]
    },
    {
      "cell_type": "code",
      "source": [
        "model_2.evaluate(valid_dataset)"
      ],
      "metadata": {
        "colab": {
          "base_uri": "https://localhost:8080/"
        },
        "id": "RtmIGDYWPYOR",
        "outputId": "27886d9f-0cb0-423d-de9b-222512d230e4"
      },
      "execution_count": 123,
      "outputs": [
        {
          "output_type": "stream",
          "name": "stdout",
          "text": [
            "945/945 [==============================] - 11s 12ms/step - loss: 0.8418 - accuracy: 0.6742\n"
          ]
        },
        {
          "output_type": "execute_result",
          "data": {
            "text/plain": [
              "[0.8417927026748657, 0.6742023229598999]"
            ]
          },
          "metadata": {},
          "execution_count": 123
        }
      ]
    },
    {
      "cell_type": "code",
      "source": [
        ""
      ],
      "metadata": {
        "id": "MCxNzkv_Uwtx"
      },
      "execution_count": null,
      "outputs": []
    }
  ]
}